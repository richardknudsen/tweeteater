{
 "cells": [
  {
   "cell_type": "markdown",
   "metadata": {},
   "source": [
    "# Intro"
   ]
  },
  {
   "cell_type": "markdown",
   "metadata": {},
   "source": [
    "This notebook demonstrates the use of the tweeteater functions. The goal of the tweeteater library is to provide functions that allow simple loading of large Twitter datasets collected from the streaming API. It particularly allows to extract nested observations of engagements."
   ]
  },
  {
   "cell_type": "markdown",
   "metadata": {},
   "source": [
    "# Parameters"
   ]
  },
  {
   "cell_type": "code",
   "execution_count": null,
   "metadata": {},
   "outputs": [],
   "source": [
    "# the directory with the tweets \n",
    "directory = 'test_data'\n",
    "extension = '.jsonl'\n",
    "filepaths = get_filepaths(directory, extension)\n",
    "n_filepaths = len(list(get_filepaths(directory, extension)))\n",
    "ids = [id_ for id_, types in load_pickle('test_data/tweettypes.pickle').items()]\n",
    "attributes = ['created_at', 'user.screen_name']\n",
    "tweet_attributes = eat_tweetattributes(filepaths, ids, attributes, n_filepaths=n_filepaths)\n",
    "assert dict(tweet_attributes) == load_pickle('test_data/tweets_attributes.pickle')\n"
   ]
  },
  {
   "cell_type": "code",
   "execution_count": null,
   "metadata": {},
   "outputs": [],
   "source": []
  }
 ],
 "metadata": {
  "kernelspec": {
   "display_name": "Python [conda env:tweeteater]",
   "language": "python",
   "name": "conda-env-tweeteater-py"
  },
  "language_info": {
   "codemirror_mode": {
    "name": "ipython",
    "version": 3
   },
   "file_extension": ".py",
   "mimetype": "text/x-python",
   "name": "python",
   "nbconvert_exporter": "python",
   "pygments_lexer": "ipython3",
   "version": "3.6.8"
  }
 },
 "nbformat": 4,
 "nbformat_minor": 2
}
