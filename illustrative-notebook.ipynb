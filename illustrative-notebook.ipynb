{
 "cells": [
  {
   "cell_type": "markdown",
   "metadata": {},
   "source": [
    "# Intro"
   ]
  },
  {
   "cell_type": "markdown",
   "metadata": {},
   "source": [
    "This notebook demonstrates the use of the tweeteater functions. The goal of the tweeteater library is to provide functions that allow simple loading of large Twitter datasets collected from the streaming API. It particularly allows to extract nested observations of engagements."
   ]
  },
  {
   "cell_type": "markdown",
   "metadata": {},
   "source": [
    "# Parameters"
   ]
  },
  {
   "cell_type": "code",
   "execution_count": 1,
   "metadata": {},
   "outputs": [],
   "source": [
    "# the directory with the tweets \n",
    "directory = 'sample_data'\n",
    "# the extension of the tweet files in the directory\n",
    "extension = '.jsonl'"
   ]
  },
  {
   "cell_type": "markdown",
   "metadata": {},
   "source": [
    "# Load, subset tweets and analyse types"
   ]
  },
  {
   "cell_type": "markdown",
   "metadata": {},
   "source": [
    "At first, we now want to load all tweets in the directory and filter them. We can filter on two conditions, 1. being that we only keep certain types of tweet, 2. we can provide a custom subsetting function. Regarding 1.: a tweet can be a a) retweet of a tweet, b) a replie to a tweet c) a quote of a tweet or d) just an original tweet, that is a tweet that is neither a) - c). A) - c) are not necessarily mutually exclusive.  "
   ]
  },
  {
   "cell_type": "code",
   "execution_count": 2,
   "metadata": {},
   "outputs": [],
   "source": [
    "from lib.eat_tweets import *\n",
    "from lib.utils import *"
   ]
  },
  {
   "cell_type": "markdown",
   "metadata": {},
   "source": [
    "We now only want to keep tweets made by certain users, which are in this case political accounts, and hence define a custom subset function that acts directly on the tweet object "
   ]
  },
  {
   "cell_type": "code",
   "execution_count": 3,
   "metadata": {},
   "outputs": [],
   "source": [
    "pt = directory + '/screenname2party.json'\n",
    "politicians_screennames = set([scn for scn, party in load_json(pt).items()])\n",
    "subset_func = lambda tweet: safe_get(tweet, *('user', 'screen_name')) in politicians_screennames"
   ]
  },
  {
   "cell_type": "markdown",
   "metadata": {},
   "source": [
    "Furthermore, we decide that we want to keep all tweettypes."
   ]
  },
  {
   "cell_type": "code",
   "execution_count": 4,
   "metadata": {},
   "outputs": [],
   "source": [
    "keep_tweettypes = ['original', 'retweet', 'reply', 'quote']"
   ]
  },
  {
   "cell_type": "markdown",
   "metadata": {},
   "source": [
    "Now we are ready to load the tweets."
   ]
  },
  {
   "cell_type": "code",
   "execution_count": 5,
   "metadata": {},
   "outputs": [
    {
     "name": "stderr",
     "output_type": "stream",
     "text": [
      "\r",
      "  0%|          | 0/2 [00:00<?, ?it/s]"
     ]
    }
   ],
   "source": [
    "filepaths = get_filepaths(directory, extension)\n",
    "n_filepaths = len(list(get_filepaths(directory, extension)))\n",
    "tweettypes = eat_tweettypes(filepaths, subset_func=subset_func, n_filepaths=n_filepaths)"
   ]
  },
  {
   "cell_type": "markdown",
   "metadata": {},
   "source": [
    "The tweettypes object is a generator using lazy loading. Since the sample dataset used here is small, we can safely convert it into a dictionary, but with larger datasets, this should be avoided. "
   ]
  },
  {
   "cell_type": "code",
   "execution_count": 6,
   "metadata": {},
   "outputs": [
    {
     "name": "stderr",
     "output_type": "stream",
     "text": [
      "100%|██████████| 2/2 [00:01<00:00,  1.51it/s]"
     ]
    },
    {
     "name": "stdout",
     "output_type": "stream",
     "text": [
      "n tweets: 84\n"
     ]
    },
    {
     "name": "stderr",
     "output_type": "stream",
     "text": [
      "\n"
     ]
    }
   ],
   "source": [
    "tweettypes = dict(tweettypes); print('n tweets:', len(tweettypes))"
   ]
  },
  {
   "cell_type": "markdown",
   "metadata": {},
   "source": [
    "We now want to see the distribution across tweettypes"
   ]
  },
  {
   "cell_type": "code",
   "execution_count": 7,
   "metadata": {},
   "outputs": [
    {
     "data": {
      "text/plain": [
       "<matplotlib.axes._subplots.AxesSubplot at 0x10ede82b0>"
      ]
     },
     "execution_count": 7,
     "metadata": {},
     "output_type": "execute_result"
    },
    {
     "data": {
      "image/png": "[encoded data removed]",
      "text/plain": [
       "<Figure size 720x288 with 1 Axes>"
      ]
     },
     "metadata": {
      "needs_background": "light"
     },
     "output_type": "display_data"
    }
   ],
   "source": [
    "import seaborn as sns \n",
    "import pandas as pd\n",
    "import matplotlib.pyplot as plt\n",
    "%matplotlib inline\n",
    "\n",
    "tweettypes_df = pd.DataFrame({'tweet type': [str(x) for x in tweettypes.values()]})\n",
    "fig, ax = plt.subplots(1, 1, figsize=(10, 4))\n",
    "sns.countplot(data=tweettypes_df, y='tweet type', ax=ax)"
   ]
  },
  {
   "cell_type": "markdown",
   "metadata": {},
   "source": [
    "Since we are only interested in original tweets, we subset accordingly"
   ]
  },
  {
   "cell_type": "code",
   "execution_count": 8,
   "metadata": {},
   "outputs": [
    {
     "name": "stdout",
     "output_type": "stream",
     "text": [
      "n original tweets 12\n"
     ]
    }
   ],
   "source": [
    "ids = [id_ for id_, types in tweettypes.items() if 'original' in types]\n",
    "print('n original tweets', len(ids))"
   ]
  },
  {
   "cell_type": "markdown",
   "metadata": {},
   "source": [
    "# Extract more attributes"
   ]
  },
  {
   "cell_type": "markdown",
   "metadata": {},
   "source": [
    "We want to know a little more about the tweets, so we want to extract some more attributes. A comprehensive overview of all atributes of the tweet object can be found here: https://developer.twitter.com/en/docs/tweets/data-dictionary/overview/tweet-object.html"
   ]
  },
  {
   "cell_type": "code",
   "execution_count": 9,
   "metadata": {},
   "outputs": [
    {
     "name": "stderr",
     "output_type": "stream",
     "text": [
      "100%|██████████| 2/2 [00:00<00:00,  4.51it/s]\n"
     ]
    }
   ],
   "source": [
    "attributes = ['created_at', 'user.screen_name', 'user.name', 'text', 'lang']\n",
    "filepaths = get_filepaths(directory, extension)\n",
    "n_filepaths = len(list(get_filepaths(directory, extension)))\n",
    "tweet_attributes = eat_tweetattributes(filepaths, ids, attributes, n_filepaths=n_filepaths)\n",
    "tweet_attributes = pd.DataFrame([[a] + b for a, b in tweet_attributes])\n",
    "tweet_attributes.columns = ['id'] + attributes"
   ]
  },
  {
   "cell_type": "code",
   "execution_count": 10,
   "metadata": {},
   "outputs": [
    {
     "data": {
      "text/html": [
       "<div>\n",
       "<style scoped>\n",
       "    .dataframe tbody tr th:only-of-type {\n",
       "        vertical-align: middle;\n",
       "    }\n",
       "\n",
       "    .dataframe tbody tr th {\n",
       "        vertical-align: top;\n",
       "    }\n",
       "\n",
       "    .dataframe thead th {\n",
       "        text-align: right;\n",
       "    }\n",
       "</style>\n",
       "<table border=\"1\" class=\"dataframe\">\n",
       "  <thead>\n",
       "    <tr style=\"text-align: right;\">\n",
       "      <th></th>\n",
       "      <th>id</th>\n",
       "      <th>created_at</th>\n",
       "      <th>user.screen_name</th>\n",
       "      <th>user.name</th>\n",
       "      <th>text</th>\n",
       "      <th>lang</th>\n",
       "    </tr>\n",
       "  </thead>\n",
       "  <tbody>\n",
       "    <tr>\n",
       "      <th>0</th>\n",
       "      <td>899693900402745345</td>\n",
       "      <td>Mon Aug 21 18:05:16 +0000 2017</td>\n",
       "      <td>PaulSch72969276</td>\n",
       "      <td>Paul Schmidt</td>\n",
       "      <td>#Gruene #SPD #CDU hassen uns #Deutschland #BTW...</td>\n",
       "      <td>de</td>\n",
       "    </tr>\n",
       "    <tr>\n",
       "      <th>1</th>\n",
       "      <td>899694525454700544</td>\n",
       "      <td>Mon Aug 21 18:07:45 +0000 2017</td>\n",
       "      <td>CDU</td>\n",
       "      <td>CDU Deutschlands</td>\n",
       "      <td>Gestern waren die Nachbarn auf einen Plausch m...</td>\n",
       "      <td>de</td>\n",
       "    </tr>\n",
       "    <tr>\n",
       "      <th>2</th>\n",
       "      <td>899700409391960064</td>\n",
       "      <td>Mon Aug 21 18:31:07 +0000 2017</td>\n",
       "      <td>AfD_Bund</td>\n",
       "      <td>Alternative für 🇩🇪</td>\n",
       "      <td>Video der Pressekonferenz zum asyl- &amp;amp; entw...</td>\n",
       "      <td>de</td>\n",
       "    </tr>\n",
       "    <tr>\n",
       "      <th>3</th>\n",
       "      <td>899680570015395840</td>\n",
       "      <td>Mon Aug 21 17:12:17 +0000 2017</td>\n",
       "      <td>GrueneSchmeding</td>\n",
       "      <td>Martin Schmeding</td>\n",
       "      <td>5.9 Redaktionsgespräch beim #Südkurier mit BaW...</td>\n",
       "      <td>de</td>\n",
       "    </tr>\n",
       "    <tr>\n",
       "      <th>4</th>\n",
       "      <td>899681695099695104</td>\n",
       "      <td>Mon Aug 21 17:16:46 +0000 2017</td>\n",
       "      <td>GrueneSchmeding</td>\n",
       "      <td>Martin Schmeding</td>\n",
       "      <td>7.9 kommt unsere #Landesvorsitzende @detzer_sa...</td>\n",
       "      <td>de</td>\n",
       "    </tr>\n",
       "  </tbody>\n",
       "</table>\n",
       "</div>"
      ],
      "text/plain": [
       "                   id                      created_at user.screen_name  \\\n",
       "0  899693900402745345  Mon Aug 21 18:05:16 +0000 2017  PaulSch72969276   \n",
       "1  899694525454700544  Mon Aug 21 18:07:45 +0000 2017              CDU   \n",
       "2  899700409391960064  Mon Aug 21 18:31:07 +0000 2017         AfD_Bund   \n",
       "3  899680570015395840  Mon Aug 21 17:12:17 +0000 2017  GrueneSchmeding   \n",
       "4  899681695099695104  Mon Aug 21 17:16:46 +0000 2017  GrueneSchmeding   \n",
       "\n",
       "            user.name                                               text lang  \n",
       "0        Paul Schmidt  #Gruene #SPD #CDU hassen uns #Deutschland #BTW...   de  \n",
       "1    CDU Deutschlands  Gestern waren die Nachbarn auf einen Plausch m...   de  \n",
       "2  Alternative für 🇩🇪  Video der Pressekonferenz zum asyl- &amp; entw...   de  \n",
       "3    Martin Schmeding  5.9 Redaktionsgespräch beim #Südkurier mit BaW...   de  \n",
       "4    Martin Schmeding  7.9 kommt unsere #Landesvorsitzende @detzer_sa...   de  "
      ]
     },
     "execution_count": 10,
     "metadata": {},
     "output_type": "execute_result"
    }
   ],
   "source": [
    "tweet_attributes.head()"
   ]
  },
  {
   "cell_type": "markdown",
   "metadata": {},
   "source": [
    "Let's also save this"
   ]
  },
  {
   "cell_type": "code",
   "execution_count": 11,
   "metadata": {},
   "outputs": [],
   "source": [
    "tweet_attributes.to_csv('sample_output/tweets.csv')"
   ]
  },
  {
   "cell_type": "markdown",
   "metadata": {},
   "source": [
    "# Extracting engagements"
   ]
  },
  {
   "cell_type": "markdown",
   "metadata": {},
   "source": [
    "We now also want to know, how many engagements (favourites, replies, retweets, quotes) the original tweets from the politicians received. We can extract this in the following way"
   ]
  },
  {
   "cell_type": "code",
   "execution_count": 12,
   "metadata": {},
   "outputs": [
    {
     "name": "stderr",
     "output_type": "stream",
     "text": [
      "100%|██████████| 2/2 [00:00<00:00,  4.76it/s]\n"
     ]
    }
   ],
   "source": [
    "filepaths = get_filepaths(directory, extension)\n",
    "n_filepaths = len(list(get_filepaths(directory, extension)))\n",
    "engagements = eat_engagements(filepaths, ids, n_filepaths=n_filepaths)\n",
    "engagements = pd.DataFrame(list(engagements))\n",
    "engagements.columns = ['observed timestamp', 'observed in tweet.id', 'tweet.id', \n",
    "                       'engagement type', 'count']"
   ]
  },
  {
   "cell_type": "code",
   "execution_count": 13,
   "metadata": {},
   "outputs": [
    {
     "data": {
      "text/html": [
       "<div>\n",
       "<style scoped>\n",
       "    .dataframe tbody tr th:only-of-type {\n",
       "        vertical-align: middle;\n",
       "    }\n",
       "\n",
       "    .dataframe tbody tr th {\n",
       "        vertical-align: top;\n",
       "    }\n",
       "\n",
       "    .dataframe thead th {\n",
       "        text-align: right;\n",
       "    }\n",
       "</style>\n",
       "<table border=\"1\" class=\"dataframe\">\n",
       "  <thead>\n",
       "    <tr style=\"text-align: right;\">\n",
       "      <th></th>\n",
       "      <th>observed timestamp</th>\n",
       "      <th>observed in tweet.id</th>\n",
       "      <th>tweet.id</th>\n",
       "      <th>engagement type</th>\n",
       "      <th>count</th>\n",
       "    </tr>\n",
       "  </thead>\n",
       "  <tbody>\n",
       "    <tr>\n",
       "      <th>0</th>\n",
       "      <td>Mon Aug 21 18:09:14 +0000 2017</td>\n",
       "      <td>899694902233182208</td>\n",
       "      <td>899694525454700544</td>\n",
       "      <td>reply</td>\n",
       "      <td>1</td>\n",
       "    </tr>\n",
       "    <tr>\n",
       "      <th>1</th>\n",
       "      <td>Mon Aug 21 18:09:17 +0000 2017</td>\n",
       "      <td>899694914077945858</td>\n",
       "      <td>899694525454700544</td>\n",
       "      <td>favourite_count</td>\n",
       "      <td>3</td>\n",
       "    </tr>\n",
       "    <tr>\n",
       "      <th>2</th>\n",
       "      <td>Mon Aug 21 18:09:17 +0000 2017</td>\n",
       "      <td>899694914077945858</td>\n",
       "      <td>899694525454700544</td>\n",
       "      <td>retweet_count</td>\n",
       "      <td>1</td>\n",
       "    </tr>\n",
       "    <tr>\n",
       "      <th>3</th>\n",
       "      <td>Mon Aug 21 18:09:18 +0000 2017</td>\n",
       "      <td>899694919178223617</td>\n",
       "      <td>899694525454700544</td>\n",
       "      <td>favourite_count</td>\n",
       "      <td>3</td>\n",
       "    </tr>\n",
       "    <tr>\n",
       "      <th>4</th>\n",
       "      <td>Mon Aug 21 18:09:18 +0000 2017</td>\n",
       "      <td>899694919178223617</td>\n",
       "      <td>899694525454700544</td>\n",
       "      <td>retweet_count</td>\n",
       "      <td>2</td>\n",
       "    </tr>\n",
       "  </tbody>\n",
       "</table>\n",
       "</div>"
      ],
      "text/plain": [
       "               observed timestamp  observed in tweet.id            tweet.id  \\\n",
       "0  Mon Aug 21 18:09:14 +0000 2017    899694902233182208  899694525454700544   \n",
       "1  Mon Aug 21 18:09:17 +0000 2017    899694914077945858  899694525454700544   \n",
       "2  Mon Aug 21 18:09:17 +0000 2017    899694914077945858  899694525454700544   \n",
       "3  Mon Aug 21 18:09:18 +0000 2017    899694919178223617  899694525454700544   \n",
       "4  Mon Aug 21 18:09:18 +0000 2017    899694919178223617  899694525454700544   \n",
       "\n",
       "   engagement type  count  \n",
       "0            reply      1  \n",
       "1  favourite_count      3  \n",
       "2    retweet_count      1  \n",
       "3  favourite_count      3  \n",
       "4    retweet_count      2  "
      ]
     },
     "execution_count": 13,
     "metadata": {},
     "output_type": "execute_result"
    }
   ],
   "source": [
    "engagements.head()"
   ]
  },
  {
   "cell_type": "markdown",
   "metadata": {},
   "source": [
    "Note that the engagement types 'favourite_count' and 'retweet_count' correspond to the actual counts according to Twitter at the time 'tweet extracted from' was made. Hence, these are cumulative counts. 'reply' and 'quote' simply mark a reply or a quote within our dataset, hence the count is always 1. Let's now see, which tweets have the highest engagements"
   ]
  },
  {
   "cell_type": "markdown",
   "metadata": {},
   "source": [
    "Let's now add some more columns to this. "
   ]
  },
  {
   "cell_type": "code",
   "execution_count": 14,
   "metadata": {},
   "outputs": [],
   "source": [
    "tweetid2screenname = dict(zip(tweet_attributes['id'], tweet_attributes['user.screen_name']))\n",
    "tweetid2createdat = dict(zip(tweet_attributes['id'], tweet_attributes['created_at']))\n",
    "engagements['user.screen_name'] = [tweetid2screenname[id_]\n",
    "                                   for id_ in engagements['tweet.id']]\n",
    "engagements['created_at'] = [tweetid2createdat[id_]\n",
    "                             for id_ in engagements['tweet.id']]"
   ]
  },
  {
   "cell_type": "code",
   "execution_count": 15,
   "metadata": {},
   "outputs": [
    {
     "data": {
      "text/html": [
       "<div>\n",
       "<style scoped>\n",
       "    .dataframe tbody tr th:only-of-type {\n",
       "        vertical-align: middle;\n",
       "    }\n",
       "\n",
       "    .dataframe tbody tr th {\n",
       "        vertical-align: top;\n",
       "    }\n",
       "\n",
       "    .dataframe thead th {\n",
       "        text-align: right;\n",
       "    }\n",
       "</style>\n",
       "<table border=\"1\" class=\"dataframe\">\n",
       "  <thead>\n",
       "    <tr style=\"text-align: right;\">\n",
       "      <th></th>\n",
       "      <th>observed timestamp</th>\n",
       "      <th>observed in tweet.id</th>\n",
       "      <th>tweet.id</th>\n",
       "      <th>engagement type</th>\n",
       "      <th>count</th>\n",
       "      <th>user.screen_name</th>\n",
       "      <th>created_at</th>\n",
       "    </tr>\n",
       "  </thead>\n",
       "  <tbody>\n",
       "    <tr>\n",
       "      <th>0</th>\n",
       "      <td>Mon Aug 21 18:09:14 +0000 2017</td>\n",
       "      <td>899694902233182208</td>\n",
       "      <td>899694525454700544</td>\n",
       "      <td>reply</td>\n",
       "      <td>1</td>\n",
       "      <td>CDU</td>\n",
       "      <td>Mon Aug 21 18:07:45 +0000 2017</td>\n",
       "    </tr>\n",
       "    <tr>\n",
       "      <th>1</th>\n",
       "      <td>Mon Aug 21 18:09:17 +0000 2017</td>\n",
       "      <td>899694914077945858</td>\n",
       "      <td>899694525454700544</td>\n",
       "      <td>favourite_count</td>\n",
       "      <td>3</td>\n",
       "      <td>CDU</td>\n",
       "      <td>Mon Aug 21 18:07:45 +0000 2017</td>\n",
       "    </tr>\n",
       "    <tr>\n",
       "      <th>2</th>\n",
       "      <td>Mon Aug 21 18:09:17 +0000 2017</td>\n",
       "      <td>899694914077945858</td>\n",
       "      <td>899694525454700544</td>\n",
       "      <td>retweet_count</td>\n",
       "      <td>1</td>\n",
       "      <td>CDU</td>\n",
       "      <td>Mon Aug 21 18:07:45 +0000 2017</td>\n",
       "    </tr>\n",
       "    <tr>\n",
       "      <th>3</th>\n",
       "      <td>Mon Aug 21 18:09:18 +0000 2017</td>\n",
       "      <td>899694919178223617</td>\n",
       "      <td>899694525454700544</td>\n",
       "      <td>favourite_count</td>\n",
       "      <td>3</td>\n",
       "      <td>CDU</td>\n",
       "      <td>Mon Aug 21 18:07:45 +0000 2017</td>\n",
       "    </tr>\n",
       "    <tr>\n",
       "      <th>4</th>\n",
       "      <td>Mon Aug 21 18:09:18 +0000 2017</td>\n",
       "      <td>899694919178223617</td>\n",
       "      <td>899694525454700544</td>\n",
       "      <td>retweet_count</td>\n",
       "      <td>2</td>\n",
       "      <td>CDU</td>\n",
       "      <td>Mon Aug 21 18:07:45 +0000 2017</td>\n",
       "    </tr>\n",
       "  </tbody>\n",
       "</table>\n",
       "</div>"
      ],
      "text/plain": [
       "               observed timestamp  observed in tweet.id            tweet.id  \\\n",
       "0  Mon Aug 21 18:09:14 +0000 2017    899694902233182208  899694525454700544   \n",
       "1  Mon Aug 21 18:09:17 +0000 2017    899694914077945858  899694525454700544   \n",
       "2  Mon Aug 21 18:09:17 +0000 2017    899694914077945858  899694525454700544   \n",
       "3  Mon Aug 21 18:09:18 +0000 2017    899694919178223617  899694525454700544   \n",
       "4  Mon Aug 21 18:09:18 +0000 2017    899694919178223617  899694525454700544   \n",
       "\n",
       "   engagement type  count user.screen_name                      created_at  \n",
       "0            reply      1              CDU  Mon Aug 21 18:07:45 +0000 2017  \n",
       "1  favourite_count      3              CDU  Mon Aug 21 18:07:45 +0000 2017  \n",
       "2    retweet_count      1              CDU  Mon Aug 21 18:07:45 +0000 2017  \n",
       "3  favourite_count      3              CDU  Mon Aug 21 18:07:45 +0000 2017  \n",
       "4    retweet_count      2              CDU  Mon Aug 21 18:07:45 +0000 2017  "
      ]
     },
     "execution_count": 15,
     "metadata": {},
     "output_type": "execute_result"
    }
   ],
   "source": [
    "engagements.head()"
   ]
  },
  {
   "cell_type": "code",
   "execution_count": 16,
   "metadata": {},
   "outputs": [],
   "source": [
    "engagements.to_csv('sample_output/engagements.csv')"
   ]
  }
 ],
 "metadata": {
  "kernelspec": {
   "display_name": "Python [conda env:tweeteater]",
   "language": "python",
   "name": "conda-env-tweeteater-py"
  },
  "language_info": {
   "codemirror_mode": {
    "name": "ipython",
    "version": 3
   },
   "file_extension": ".py",
   "mimetype": "text/x-python",
   "name": "python",
   "nbconvert_exporter": "python",
   "pygments_lexer": "ipython3",
   "version": "3.6.8"
  }
 },
 "nbformat": 4,
 "nbformat_minor": 2
}
