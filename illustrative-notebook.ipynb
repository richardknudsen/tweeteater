{
 "cells": [
  {
   "cell_type": "markdown",
   "metadata": {},
   "source": [
    "# Intro"
   ]
  },
  {
   "cell_type": "markdown",
   "metadata": {},
   "source": [
    "This notebook demonstrates the use of the tweeteater functions. The goal of the tweeteater library is to provide functions that allow simple loading of large Twitter datasets collected from the streaming API. It particularly allows to extract nested observations of engagements."
   ]
  },
  {
   "cell_type": "markdown",
   "metadata": {},
   "source": [
    "# Parameters"
   ]
  },
  {
   "cell_type": "code",
   "execution_count": 1,
   "metadata": {},
   "outputs": [],
   "source": [
    "# the directory with the tweets \n",
    "directory = 'sample_data'\n",
    "# the extension of the tweet files in the directory\n",
    "extension = '.jsonl'"
   ]
  },
  {
   "cell_type": "markdown",
   "metadata": {},
   "source": [
    "# Load, subset tweets and analyse types"
   ]
  },
  {
   "cell_type": "markdown",
   "metadata": {},
   "source": [
    "At first, we now want to load all tweets in the directory and filter them. We can filter on two conditions, 1. being that we only keep certain types of tweet, 2. we can provide a custom subsetting function. Regarding 1.: a tweet can be a a) retweet of a tweet, b) a replie to a tweet c) a quote of a tweet or d) just an original tweet, that is a tweet that is neither a) - c). A) - c) are not necessarily mutually exclusive.  "
   ]
  },
  {
   "cell_type": "code",
   "execution_count": 3,
   "metadata": {},
   "outputs": [],
   "source": [
    "from lib.eat_tweets import *\n",
    "from lib.utils import *"
   ]
  },
  {
   "cell_type": "markdown",
   "metadata": {},
   "source": [
    "We now only want to keep tweets made by certain users, which are in this case political accounts, and hence define a custom subset function that acts directly on the tweet object "
   ]
  },
  {
   "cell_type": "code",
   "execution_count": 4,
   "metadata": {},
   "outputs": [],
   "source": [
    "pt = directory + '/screenname2party.json'\n",
    "politicians_screennames = set([scn for scn, party in load_json(pt).items()])\n",
    "subset_func = lambda tweet: safe_get(tweet, *('user', 'screen_name')) in politicians_screennames"
   ]
  },
  {
   "cell_type": "markdown",
   "metadata": {},
   "source": [
    "Furthermore, we decide that we want to keep all tweettypes."
   ]
  },
  {
   "cell_type": "code",
   "execution_count": 5,
   "metadata": {},
   "outputs": [],
   "source": [
    "keep_tweettypes = ['original', 'retweet', 'reply', 'quote']"
   ]
  },
  {
   "cell_type": "markdown",
   "metadata": {},
   "source": [
    "Now we are ready to load the tweets."
   ]
  },
  {
   "cell_type": "code",
   "execution_count": 6,
   "metadata": {},
   "outputs": [
    {
     "name": "stderr",
     "output_type": "stream",
     "text": [
      "\r",
      "  0%|          | 0/24 [00:00<?, ?it/s]"
     ]
    }
   ],
   "source": [
    "filepaths = get_filepaths(directory, extension)\n",
    "n_filepaths = len(list(get_filepaths(directory, extension)))\n",
    "tweettypes = eat_tweettypes(filepaths, subset_func=subset_func, n_filepaths=n_filepaths)"
   ]
  },
  {
   "cell_type": "markdown",
   "metadata": {},
   "source": [
    "The tweettypes object is a generator using lazy loading. Since the sample dataset used here is small, we can safely convert it into a dictionary, but with larger datasets, this should be avoided. "
   ]
  },
  {
   "cell_type": "code",
   "execution_count": 7,
   "metadata": {},
   "outputs": [
    {
     "name": "stderr",
     "output_type": "stream",
     "text": [
      "100%|██████████| 24/24 [00:05<00:00,  6.63it/s]"
     ]
    },
    {
     "name": "stdout",
     "output_type": "stream",
     "text": [
      "n tweets: 578\n"
     ]
    },
    {
     "name": "stderr",
     "output_type": "stream",
     "text": [
      "\n"
     ]
    }
   ],
   "source": [
    "tweettypes = dict(tweettypes); print('n tweets:', len(tweettypes))"
   ]
  },
  {
   "cell_type": "markdown",
   "metadata": {},
   "source": [
    "We now want to see the distribution across tweettypes"
   ]
  },
  {
   "cell_type": "code",
   "execution_count": 9,
   "metadata": {},
   "outputs": [
    {
     "data": {
      "text/plain": [
       "<matplotlib.axes._subplots.AxesSubplot at 0x1a17028748>"
      ]
     },
     "execution_count": 9,
     "metadata": {},
     "output_type": "execute_result"
    },
    {
     "data": {
      "image/png": "[encoded data removed]",
      "text/plain": [
       "<Figure size 720x288 with 1 Axes>"
      ]
     },
     "metadata": {
      "needs_background": "light"
     },
     "output_type": "display_data"
    }
   ],
   "source": [
    "import seaborn as sns \n",
    "import pandas as pd\n",
    "import matplotlib.pyplot as plt\n",
    "%matplotlib inline\n",
    "\n",
    "tweettypes_df = pd.DataFrame({'tweet type': [str(x) for x in tweettypes.values()]})\n",
    "fig, ax = plt.subplots(1, 1, figsize=(10, 4))\n",
    "sns.countplot(data=tweettypes_df, y='tweet type', ax=ax)"
   ]
  },
  {
   "cell_type": "markdown",
   "metadata": {},
   "source": [
    "Since we are only interested in original tweets, we subset accordingly"
   ]
  },
  {
   "cell_type": "code",
   "execution_count": 10,
   "metadata": {},
   "outputs": [
    {
     "name": "stdout",
     "output_type": "stream",
     "text": [
      "n original tweets 113\n"
     ]
    }
   ],
   "source": [
    "ids = [id_ for id_, types in tweettypes.items() if 'original' in types]\n",
    "print('n original tweets', len(ids))"
   ]
  },
  {
   "cell_type": "markdown",
   "metadata": {},
   "source": [
    "# Extract more attributes"
   ]
  },
  {
   "cell_type": "markdown",
   "metadata": {},
   "source": [
    "We want to know a little more about the tweets, so we want to extract some more attributes. A comprehensive overview of all atributes of the tweet object can be found here: https://developer.twitter.com/en/docs/tweets/data-dictionary/overview/tweet-object.html"
   ]
  },
  {
   "cell_type": "code",
   "execution_count": 11,
   "metadata": {},
   "outputs": [
    {
     "name": "stderr",
     "output_type": "stream",
     "text": [
      "100%|██████████| 24/24 [00:03<00:00,  6.97it/s]\n"
     ]
    }
   ],
   "source": [
    "attributes = ['created_at', 'user.screen_name', 'user.name', 'text', 'lang']\n",
    "filepaths = get_filepaths(directory, extension)\n",
    "n_filepaths = len(list(get_filepaths(directory, extension)))\n",
    "tweet_attributes = eat_tweetattributes(filepaths, ids, attributes, n_filepaths=n_filepaths)\n",
    "tweet_attributes = pd.DataFrame([[a] + b for a, b in tweet_attributes])\n",
    "tweet_attributes.columns = ['id'] + attributes"
   ]
  },
  {
   "cell_type": "code",
   "execution_count": 12,
   "metadata": {},
   "outputs": [
    {
     "data": {
      "text/html": [
       "<div>\n",
       "<style scoped>\n",
       "    .dataframe tbody tr th:only-of-type {\n",
       "        vertical-align: middle;\n",
       "    }\n",
       "\n",
       "    .dataframe tbody tr th {\n",
       "        vertical-align: top;\n",
       "    }\n",
       "\n",
       "    .dataframe thead th {\n",
       "        text-align: right;\n",
       "    }\n",
       "</style>\n",
       "<table border=\"1\" class=\"dataframe\">\n",
       "  <thead>\n",
       "    <tr style=\"text-align: right;\">\n",
       "      <th></th>\n",
       "      <th>id</th>\n",
       "      <th>created_at</th>\n",
       "      <th>user.screen_name</th>\n",
       "      <th>user.name</th>\n",
       "      <th>text</th>\n",
       "      <th>lang</th>\n",
       "    </tr>\n",
       "  </thead>\n",
       "  <tbody>\n",
       "    <tr>\n",
       "      <th>0</th>\n",
       "      <td>899636290458718208</td>\n",
       "      <td>Mon Aug 21 14:16:20 +0000 2017</td>\n",
       "      <td>CDU</td>\n",
       "      <td>CDU Deutschlands</td>\n",
       "      <td>.@OttosKassiber in der @zeitonline zum 2%-Ziel...</td>\n",
       "      <td>de</td>\n",
       "    </tr>\n",
       "    <tr>\n",
       "      <th>1</th>\n",
       "      <td>899639483334893569</td>\n",
       "      <td>Mon Aug 21 14:29:01 +0000 2017</td>\n",
       "      <td>rennersen</td>\n",
       "      <td>Tim Renner</td>\n",
       "      <td>Endlich Sonnyboy #timrennt #BTW17 #Charlottenb...</td>\n",
       "      <td>en</td>\n",
       "    </tr>\n",
       "    <tr>\n",
       "      <th>2</th>\n",
       "      <td>899640397542117376</td>\n",
       "      <td>Mon Aug 21 14:32:39 +0000 2017</td>\n",
       "      <td>PaulZiemiak</td>\n",
       "      <td>Paul Ziemiak</td>\n",
       "      <td>Tür zu Tür Auftakt zusammen mit @MaikBeermann....</td>\n",
       "      <td>de</td>\n",
       "    </tr>\n",
       "    <tr>\n",
       "      <th>3</th>\n",
       "      <td>899640438180773888</td>\n",
       "      <td>Mon Aug 21 14:32:49 +0000 2017</td>\n",
       "      <td>JensBitzka</td>\n",
       "      <td>Jens Bitzka</td>\n",
       "      <td>Kandidatencheck - 4 Kandidierende aus dem Wahl...</td>\n",
       "      <td>de</td>\n",
       "    </tr>\n",
       "    <tr>\n",
       "      <th>4</th>\n",
       "      <td>899641325330591744</td>\n",
       "      <td>Mon Aug 21 14:36:21 +0000 2017</td>\n",
       "      <td>babman</td>\n",
       "      <td>M. Babenhauserheide</td>\n",
       "      <td>Mein kleiner Beitrag zum WDR-Kandidatencheck. ...</td>\n",
       "      <td>de</td>\n",
       "    </tr>\n",
       "  </tbody>\n",
       "</table>\n",
       "</div>"
      ],
      "text/plain": [
       "                   id                      created_at user.screen_name  \\\n",
       "0  899636290458718208  Mon Aug 21 14:16:20 +0000 2017              CDU   \n",
       "1  899639483334893569  Mon Aug 21 14:29:01 +0000 2017        rennersen   \n",
       "2  899640397542117376  Mon Aug 21 14:32:39 +0000 2017      PaulZiemiak   \n",
       "3  899640438180773888  Mon Aug 21 14:32:49 +0000 2017       JensBitzka   \n",
       "4  899641325330591744  Mon Aug 21 14:36:21 +0000 2017           babman   \n",
       "\n",
       "             user.name                                               text lang  \n",
       "0     CDU Deutschlands  .@OttosKassiber in der @zeitonline zum 2%-Ziel...   de  \n",
       "1           Tim Renner  Endlich Sonnyboy #timrennt #BTW17 #Charlottenb...   en  \n",
       "2         Paul Ziemiak  Tür zu Tür Auftakt zusammen mit @MaikBeermann....   de  \n",
       "3          Jens Bitzka  Kandidatencheck - 4 Kandidierende aus dem Wahl...   de  \n",
       "4  M. Babenhauserheide  Mein kleiner Beitrag zum WDR-Kandidatencheck. ...   de  "
      ]
     },
     "execution_count": 12,
     "metadata": {},
     "output_type": "execute_result"
    }
   ],
   "source": [
    "tweet_attributes.head()"
   ]
  },
  {
   "cell_type": "markdown",
   "metadata": {},
   "source": [
    "Let's also save this"
   ]
  },
  {
   "cell_type": "code",
   "execution_count": 14,
   "metadata": {},
   "outputs": [],
   "source": [
    "tweet_attributes.to_csv('sample_output/tweets.csv')"
   ]
  },
  {
   "cell_type": "markdown",
   "metadata": {},
   "source": [
    "# Extracting engagements"
   ]
  },
  {
   "cell_type": "markdown",
   "metadata": {},
   "source": [
    "We now also want to know, how many engagements (favourites, replies, retweets, quotes) the original tweets from the politicians received. We can extract this in the following way"
   ]
  },
  {
   "cell_type": "code",
   "execution_count": 22,
   "metadata": {},
   "outputs": [
    {
     "name": "stderr",
     "output_type": "stream",
     "text": [
      "100%|██████████| 24/24 [00:03<00:00,  6.41it/s]\n"
     ]
    }
   ],
   "source": [
    "filepaths = get_filepaths(directory, extension)\n",
    "n_filepaths = len(list(get_filepaths(directory, extension)))\n",
    "engagements = eat_engagements(filepaths, ids, n_filepaths=n_filepaths)\n",
    "engagements = pd.DataFrame(list(engagements))\n",
    "engagements.columns = ['observed timestamp', 'observed in tweet.id', 'tweet.id', \n",
    "                       'engagement type', 'count']"
   ]
  },
  {
   "cell_type": "code",
   "execution_count": 23,
   "metadata": {},
   "outputs": [
    {
     "data": {
      "text/html": [
       "<div>\n",
       "<style scoped>\n",
       "    .dataframe tbody tr th:only-of-type {\n",
       "        vertical-align: middle;\n",
       "    }\n",
       "\n",
       "    .dataframe tbody tr th {\n",
       "        vertical-align: top;\n",
       "    }\n",
       "\n",
       "    .dataframe thead th {\n",
       "        text-align: right;\n",
       "    }\n",
       "</style>\n",
       "<table border=\"1\" class=\"dataframe\">\n",
       "  <thead>\n",
       "    <tr style=\"text-align: right;\">\n",
       "      <th></th>\n",
       "      <th>observed timestamp</th>\n",
       "      <th>observed in tweet.id</th>\n",
       "      <th>tweet.id</th>\n",
       "      <th>engagement type</th>\n",
       "      <th>count</th>\n",
       "    </tr>\n",
       "  </thead>\n",
       "  <tbody>\n",
       "    <tr>\n",
       "      <th>0</th>\n",
       "      <td>Mon Aug 21 14:04:06 +0000 2017</td>\n",
       "      <td>899633210744864770</td>\n",
       "      <td>899632451445825536</td>\n",
       "      <td>favourite_count</td>\n",
       "      <td>1</td>\n",
       "    </tr>\n",
       "    <tr>\n",
       "      <th>1</th>\n",
       "      <td>Mon Aug 21 14:04:06 +0000 2017</td>\n",
       "      <td>899633210744864770</td>\n",
       "      <td>899632451445825536</td>\n",
       "      <td>retweet_count</td>\n",
       "      <td>2</td>\n",
       "    </tr>\n",
       "    <tr>\n",
       "      <th>2</th>\n",
       "      <td>Mon Aug 21 14:04:28 +0000 2017</td>\n",
       "      <td>899633304693026818</td>\n",
       "      <td>899632451445825536</td>\n",
       "      <td>favourite_count</td>\n",
       "      <td>1</td>\n",
       "    </tr>\n",
       "    <tr>\n",
       "      <th>3</th>\n",
       "      <td>Mon Aug 21 14:04:28 +0000 2017</td>\n",
       "      <td>899633304693026818</td>\n",
       "      <td>899632451445825536</td>\n",
       "      <td>retweet_count</td>\n",
       "      <td>3</td>\n",
       "    </tr>\n",
       "    <tr>\n",
       "      <th>4</th>\n",
       "      <td>Mon Aug 21 14:04:30 +0000 2017</td>\n",
       "      <td>899633310867103746</td>\n",
       "      <td>899615666386415617</td>\n",
       "      <td>favourite_count</td>\n",
       "      <td>18</td>\n",
       "    </tr>\n",
       "  </tbody>\n",
       "</table>\n",
       "</div>"
      ],
      "text/plain": [
       "               observed timestamp  observed in tweet.id            tweet.id  \\\n",
       "0  Mon Aug 21 14:04:06 +0000 2017    899633210744864770  899632451445825536   \n",
       "1  Mon Aug 21 14:04:06 +0000 2017    899633210744864770  899632451445825536   \n",
       "2  Mon Aug 21 14:04:28 +0000 2017    899633304693026818  899632451445825536   \n",
       "3  Mon Aug 21 14:04:28 +0000 2017    899633304693026818  899632451445825536   \n",
       "4  Mon Aug 21 14:04:30 +0000 2017    899633310867103746  899615666386415617   \n",
       "\n",
       "   engagement type  count  \n",
       "0  favourite_count      1  \n",
       "1    retweet_count      2  \n",
       "2  favourite_count      1  \n",
       "3    retweet_count      3  \n",
       "4  favourite_count     18  "
      ]
     },
     "execution_count": 23,
     "metadata": {},
     "output_type": "execute_result"
    }
   ],
   "source": [
    "engagements.head()"
   ]
  },
  {
   "cell_type": "markdown",
   "metadata": {},
   "source": [
    "Note that the engagement types 'favourite_count' and 'retweet_count' correspond to the actual counts according to Twitter at the time 'tweet extracted from' was made. Hence, these are cumulative counts. 'reply' and 'quote' simply mark a reply or a quote within our dataset, hence the count is always 1. Let's now see, which tweets have the highest engagements"
   ]
  },
  {
   "cell_type": "markdown",
   "metadata": {},
   "source": [
    "Let's now add some more columns to this. "
   ]
  },
  {
   "cell_type": "code",
   "execution_count": 25,
   "metadata": {},
   "outputs": [],
   "source": [
    "tweetid2screenname = dict(zip(tweet_attributes['id'], tweet_attributes['user.screen_name']))\n",
    "tweetid2createdat = dict(zip(tweet_attributes['id'], tweet_attributes['created_at']))\n",
    "engagements['user.screen_name'] = [tweetid2screenname[id_]\n",
    "                                   for id_ in engagements['tweet.id']]\n",
    "engagements['created_at'] = [tweetid2createdat[id_]\n",
    "                             for id_ in engagements['tweet.id']]"
   ]
  },
  {
   "cell_type": "code",
   "execution_count": 26,
   "metadata": {},
   "outputs": [
    {
     "data": {
      "text/html": [
       "<div>\n",
       "<style scoped>\n",
       "    .dataframe tbody tr th:only-of-type {\n",
       "        vertical-align: middle;\n",
       "    }\n",
       "\n",
       "    .dataframe tbody tr th {\n",
       "        vertical-align: top;\n",
       "    }\n",
       "\n",
       "    .dataframe thead th {\n",
       "        text-align: right;\n",
       "    }\n",
       "</style>\n",
       "<table border=\"1\" class=\"dataframe\">\n",
       "  <thead>\n",
       "    <tr style=\"text-align: right;\">\n",
       "      <th></th>\n",
       "      <th>observed timestamp</th>\n",
       "      <th>observed in tweet.id</th>\n",
       "      <th>tweet.id</th>\n",
       "      <th>engagement type</th>\n",
       "      <th>count</th>\n",
       "      <th>user.screen_name</th>\n",
       "      <th>created_at</th>\n",
       "    </tr>\n",
       "  </thead>\n",
       "  <tbody>\n",
       "    <tr>\n",
       "      <th>0</th>\n",
       "      <td>Mon Aug 21 14:04:06 +0000 2017</td>\n",
       "      <td>899633210744864770</td>\n",
       "      <td>899632451445825536</td>\n",
       "      <td>favourite_count</td>\n",
       "      <td>1</td>\n",
       "      <td>DieLinkeNRW</td>\n",
       "      <td>Mon Aug 21 14:01:05 +0000 2017</td>\n",
       "    </tr>\n",
       "    <tr>\n",
       "      <th>1</th>\n",
       "      <td>Mon Aug 21 14:04:06 +0000 2017</td>\n",
       "      <td>899633210744864770</td>\n",
       "      <td>899632451445825536</td>\n",
       "      <td>retweet_count</td>\n",
       "      <td>2</td>\n",
       "      <td>DieLinkeNRW</td>\n",
       "      <td>Mon Aug 21 14:01:05 +0000 2017</td>\n",
       "    </tr>\n",
       "    <tr>\n",
       "      <th>2</th>\n",
       "      <td>Mon Aug 21 14:04:28 +0000 2017</td>\n",
       "      <td>899633304693026818</td>\n",
       "      <td>899632451445825536</td>\n",
       "      <td>favourite_count</td>\n",
       "      <td>1</td>\n",
       "      <td>DieLinkeNRW</td>\n",
       "      <td>Mon Aug 21 14:01:05 +0000 2017</td>\n",
       "    </tr>\n",
       "    <tr>\n",
       "      <th>3</th>\n",
       "      <td>Mon Aug 21 14:04:28 +0000 2017</td>\n",
       "      <td>899633304693026818</td>\n",
       "      <td>899632451445825536</td>\n",
       "      <td>retweet_count</td>\n",
       "      <td>3</td>\n",
       "      <td>DieLinkeNRW</td>\n",
       "      <td>Mon Aug 21 14:01:05 +0000 2017</td>\n",
       "    </tr>\n",
       "    <tr>\n",
       "      <th>4</th>\n",
       "      <td>Mon Aug 21 14:04:30 +0000 2017</td>\n",
       "      <td>899633310867103746</td>\n",
       "      <td>899615666386415617</td>\n",
       "      <td>favourite_count</td>\n",
       "      <td>18</td>\n",
       "      <td>Die_Gruenen</td>\n",
       "      <td>Mon Aug 21 12:54:23 +0000 2017</td>\n",
       "    </tr>\n",
       "  </tbody>\n",
       "</table>\n",
       "</div>"
      ],
      "text/plain": [
       "               observed timestamp  observed in tweet.id            tweet.id  \\\n",
       "0  Mon Aug 21 14:04:06 +0000 2017    899633210744864770  899632451445825536   \n",
       "1  Mon Aug 21 14:04:06 +0000 2017    899633210744864770  899632451445825536   \n",
       "2  Mon Aug 21 14:04:28 +0000 2017    899633304693026818  899632451445825536   \n",
       "3  Mon Aug 21 14:04:28 +0000 2017    899633304693026818  899632451445825536   \n",
       "4  Mon Aug 21 14:04:30 +0000 2017    899633310867103746  899615666386415617   \n",
       "\n",
       "   engagement type  count user.screen_name                      created_at  \n",
       "0  favourite_count      1      DieLinkeNRW  Mon Aug 21 14:01:05 +0000 2017  \n",
       "1    retweet_count      2      DieLinkeNRW  Mon Aug 21 14:01:05 +0000 2017  \n",
       "2  favourite_count      1      DieLinkeNRW  Mon Aug 21 14:01:05 +0000 2017  \n",
       "3    retweet_count      3      DieLinkeNRW  Mon Aug 21 14:01:05 +0000 2017  \n",
       "4  favourite_count     18      Die_Gruenen  Mon Aug 21 12:54:23 +0000 2017  "
      ]
     },
     "execution_count": 26,
     "metadata": {},
     "output_type": "execute_result"
    }
   ],
   "source": [
    "engagements.head()"
   ]
  },
  {
   "cell_type": "code",
   "execution_count": 27,
   "metadata": {},
   "outputs": [],
   "source": [
    "engagements.to_csv('sample_output/engagements.csv')"
   ]
  }
 ],
 "metadata": {
  "kernelspec": {
   "display_name": "Python [conda env:tweeteater]",
   "language": "python",
   "name": "conda-env-tweeteater-py"
  },
  "language_info": {
   "codemirror_mode": {
    "name": "ipython",
    "version": 3
   },
   "file_extension": ".py",
   "mimetype": "text/x-python",
   "name": "python",
   "nbconvert_exporter": "python",
   "pygments_lexer": "ipython3",
   "version": "3.6.8"
  }
 },
 "nbformat": 4,
 "nbformat_minor": 2
}
