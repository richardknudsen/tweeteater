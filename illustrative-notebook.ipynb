{
 "cells": [
  {
   "cell_type": "markdown",
   "metadata": {},
   "source": [
    "# Intro"
   ]
  },
  {
   "cell_type": "markdown",
   "metadata": {},
   "source": [
    "This notebook demonstrates the use of the tweeteater functions. The goal of the tweeteater library is to provide functions that allow simple loading of large Twitter datasets collected from the streaming API. It particularly allows to extract nested observations of engagements."
   ]
  },
  {
   "cell_type": "code",
   "execution_count": 1,
   "metadata": {},
   "outputs": [],
   "source": [
    "from main import *"
   ]
  },
  {
   "cell_type": "markdown",
   "metadata": {},
   "source": [
    "# Load some tweets + extract engagements"
   ]
  },
  {
   "cell_type": "code",
   "execution_count": 2,
   "metadata": {},
   "outputs": [],
   "source": [
    "# the directory with the tweets \n",
    "tweet_directory = 'sample_data'\n",
    "# the extension of the tweet files in the directory\n",
    "extension = '.jsonl'\n",
    "# where we want to save output\n",
    "output_directory = 'sample_output'"
   ]
  },
  {
   "cell_type": "markdown",
   "metadata": {},
   "source": [
    "At first, we now want to load all tweets in the directory, filter them and extract some attributes. We can filter on two conditions, 1. being that we only keep certain types of tweet, 2. we can provide a custom subsetting function. Regarding 1.: a tweet can be a a) retweet of a tweet, b) a replie to a tweet c) a quote of a tweet or d) just an original tweet, that is a tweet that is neither a) - c). a) - c) are not necessarily mutually exclusive. We decide that we want to keep all tweettypes"
   ]
  },
  {
   "cell_type": "code",
   "execution_count": 3,
   "metadata": {},
   "outputs": [],
   "source": [
    "keep_tweettypes = ['original', 'retweet', 'reply', 'quote']"
   ]
  },
  {
   "cell_type": "markdown",
   "metadata": {},
   "source": [
    "We now only want to keep tweets made by certain users, which are in this case political accounts, and hence define a custom subset function that acts directly on the tweet object "
   ]
  },
  {
   "cell_type": "code",
   "execution_count": 4,
   "metadata": {},
   "outputs": [],
   "source": [
    "pt = 'sample_data/screenname2party.json'\n",
    "politicians_screennames = set([scn for scn, party in load_json(pt).items()])\n",
    "subset_func = lambda tweet: safe_get(tweet, *('user', 'screen_name')) in politicians_screennames"
   ]
  },
  {
   "cell_type": "markdown",
   "metadata": {},
   "source": [
    "And we want to extract certain attributes: "
   ]
  },
  {
   "cell_type": "code",
   "execution_count": 5,
   "metadata": {},
   "outputs": [],
   "source": [
    "attributes = ['created_at', 'user.screen_name', 'user.name', \n",
    "              'user.favourites_count', 'text', 'lang']"
   ]
  },
  {
   "cell_type": "markdown",
   "metadata": {},
   "source": [
    "Now we are ready and can go: "
   ]
  },
  {
   "cell_type": "code",
   "execution_count": 7,
   "metadata": {},
   "outputs": [
    {
     "name": "stderr",
     "output_type": "stream",
     "text": [
      "\r",
      "  0%|          | 0/2 [00:00<?, ?it/s]"
     ]
    },
    {
     "name": "stdout",
     "output_type": "stream",
     "text": [
      "Eating tweets...\n"
     ]
    },
    {
     "name": "stderr",
     "output_type": "stream",
     "text": [
      "100%|██████████| 2/2 [00:00<00:00,  4.59it/s]\n",
      "  0%|          | 0/2 [00:00<?, ?it/s]"
     ]
    },
    {
     "name": "stdout",
     "output_type": "stream",
     "text": [
      "Eating engagements...\n"
     ]
    },
    {
     "name": "stderr",
     "output_type": "stream",
     "text": [
      "100%|██████████| 2/2 [00:00<00:00,  4.08it/s]\n"
     ]
    }
   ],
   "source": [
    "tweets, engagements =  do_main(tweet_directory=tweet_directory,\n",
    "                               extension=extension,\n",
    "                               output_directory=output_directory,\n",
    "                               keep_tweettypes=keep_tweettypes,\n",
    "                               subset_func=subset_func, \n",
    "                               attributes=attributes)"
   ]
  },
  {
   "cell_type": "code",
   "execution_count": null,
   "metadata": {},
   "outputs": [],
   "source": []
  },
  {
   "cell_type": "markdown",
   "metadata": {},
   "source": [
    "## Investigate "
   ]
  },
  {
   "cell_type": "markdown",
   "metadata": {},
   "source": [
    "...the tweets"
   ]
  },
  {
   "cell_type": "code",
   "execution_count": 8,
   "metadata": {},
   "outputs": [
    {
     "data": {
      "text/html": [
       "<div>\n",
       "<style scoped>\n",
       "    .dataframe tbody tr th:only-of-type {\n",
       "        vertical-align: middle;\n",
       "    }\n",
       "\n",
       "    .dataframe tbody tr th {\n",
       "        vertical-align: top;\n",
       "    }\n",
       "\n",
       "    .dataframe thead th {\n",
       "        text-align: right;\n",
       "    }\n",
       "</style>\n",
       "<table border=\"1\" class=\"dataframe\">\n",
       "  <thead>\n",
       "    <tr style=\"text-align: right;\">\n",
       "      <th></th>\n",
       "      <th>id</th>\n",
       "      <th>tweettypes</th>\n",
       "      <th>created_at</th>\n",
       "      <th>user.screen_name</th>\n",
       "      <th>user.name</th>\n",
       "      <th>user.favourites_count</th>\n",
       "      <th>text</th>\n",
       "      <th>lang</th>\n",
       "    </tr>\n",
       "  </thead>\n",
       "  <tbody>\n",
       "    <tr>\n",
       "      <th>0</th>\n",
       "      <td>899693900402745345</td>\n",
       "      <td>{original}</td>\n",
       "      <td>Mon Aug 21 18:05:16 +0000 2017</td>\n",
       "      <td>PaulSch72969276</td>\n",
       "      <td>Paul Schmidt</td>\n",
       "      <td>7210</td>\n",
       "      <td>#Gruene #SPD #CDU hassen uns #Deutschland #BTW...</td>\n",
       "      <td>de</td>\n",
       "    </tr>\n",
       "    <tr>\n",
       "      <th>1</th>\n",
       "      <td>899694525454700544</td>\n",
       "      <td>{original}</td>\n",
       "      <td>Mon Aug 21 18:07:45 +0000 2017</td>\n",
       "      <td>CDU</td>\n",
       "      <td>CDU Deutschlands</td>\n",
       "      <td>2249</td>\n",
       "      <td>Gestern waren die Nachbarn auf einen Plausch m...</td>\n",
       "      <td>de</td>\n",
       "    </tr>\n",
       "    <tr>\n",
       "      <th>2</th>\n",
       "      <td>899695100439261186</td>\n",
       "      <td>{quote, retweet}</td>\n",
       "      <td>Mon Aug 21 18:10:02 +0000 2017</td>\n",
       "      <td>AlternativeNRW</td>\n",
       "      <td>Alternative NRW</td>\n",
       "      <td>8376</td>\n",
       "      <td>RT @UdoHemmelgarn: Könnt ihr euch da bitte anm...</td>\n",
       "      <td>de</td>\n",
       "    </tr>\n",
       "    <tr>\n",
       "      <th>3</th>\n",
       "      <td>899695144806600704</td>\n",
       "      <td>{retweet}</td>\n",
       "      <td>Mon Aug 21 18:10:12 +0000 2017</td>\n",
       "      <td>AlternativeNRW</td>\n",
       "      <td>Alternative NRW</td>\n",
       "      <td>8377</td>\n",
       "      <td>RT @AfD_Bund: Eckpfeiler des #AfD-Programms zu...</td>\n",
       "      <td>de</td>\n",
       "    </tr>\n",
       "    <tr>\n",
       "      <th>4</th>\n",
       "      <td>899695178763685893</td>\n",
       "      <td>{quote}</td>\n",
       "      <td>Mon Aug 21 18:10:20 +0000 2017</td>\n",
       "      <td>PetraPauMaHe</td>\n",
       "      <td>Petra Pau</td>\n",
       "      <td>7487</td>\n",
       "      <td>Das ist nur ekelhaft! In dieser #BTW17 geht es...</td>\n",
       "      <td>de</td>\n",
       "    </tr>\n",
       "  </tbody>\n",
       "</table>\n",
       "</div>"
      ],
      "text/plain": [
       "                   id        tweettypes                      created_at  \\\n",
       "0  899693900402745345        {original}  Mon Aug 21 18:05:16 +0000 2017   \n",
       "1  899694525454700544        {original}  Mon Aug 21 18:07:45 +0000 2017   \n",
       "2  899695100439261186  {quote, retweet}  Mon Aug 21 18:10:02 +0000 2017   \n",
       "3  899695144806600704         {retweet}  Mon Aug 21 18:10:12 +0000 2017   \n",
       "4  899695178763685893           {quote}  Mon Aug 21 18:10:20 +0000 2017   \n",
       "\n",
       "  user.screen_name         user.name  user.favourites_count  \\\n",
       "0  PaulSch72969276      Paul Schmidt                   7210   \n",
       "1              CDU  CDU Deutschlands                   2249   \n",
       "2   AlternativeNRW   Alternative NRW                   8376   \n",
       "3   AlternativeNRW   Alternative NRW                   8377   \n",
       "4     PetraPauMaHe         Petra Pau                   7487   \n",
       "\n",
       "                                                text lang  \n",
       "0  #Gruene #SPD #CDU hassen uns #Deutschland #BTW...   de  \n",
       "1  Gestern waren die Nachbarn auf einen Plausch m...   de  \n",
       "2  RT @UdoHemmelgarn: Könnt ihr euch da bitte anm...   de  \n",
       "3  RT @AfD_Bund: Eckpfeiler des #AfD-Programms zu...   de  \n",
       "4  Das ist nur ekelhaft! In dieser #BTW17 geht es...   de  "
      ]
     },
     "execution_count": 8,
     "metadata": {},
     "output_type": "execute_result"
    }
   ],
   "source": [
    "tweets.head()"
   ]
  },
  {
   "cell_type": "markdown",
   "metadata": {},
   "source": [
    "...the engagements"
   ]
  },
  {
   "cell_type": "code",
   "execution_count": 9,
   "metadata": {},
   "outputs": [
    {
     "data": {
      "text/html": [
       "<div>\n",
       "<style scoped>\n",
       "    .dataframe tbody tr th:only-of-type {\n",
       "        vertical-align: middle;\n",
       "    }\n",
       "\n",
       "    .dataframe tbody tr th {\n",
       "        vertical-align: top;\n",
       "    }\n",
       "\n",
       "    .dataframe thead th {\n",
       "        text-align: right;\n",
       "    }\n",
       "</style>\n",
       "<table border=\"1\" class=\"dataframe\">\n",
       "  <thead>\n",
       "    <tr style=\"text-align: right;\">\n",
       "      <th></th>\n",
       "      <th>observed timestamp</th>\n",
       "      <th>observed in tweet.id</th>\n",
       "      <th>tweet.id</th>\n",
       "      <th>engagement type</th>\n",
       "      <th>count</th>\n",
       "      <th>user.screen_name</th>\n",
       "      <th>created_at</th>\n",
       "    </tr>\n",
       "  </thead>\n",
       "  <tbody>\n",
       "    <tr>\n",
       "      <th>0</th>\n",
       "      <td>Mon Aug 21 18:09:14 +0000 2017</td>\n",
       "      <td>899694902233182208</td>\n",
       "      <td>899694525454700544</td>\n",
       "      <td>reply</td>\n",
       "      <td>1</td>\n",
       "      <td>CDU</td>\n",
       "      <td>Mon Aug 21 18:07:45 +0000 2017</td>\n",
       "    </tr>\n",
       "    <tr>\n",
       "      <th>1</th>\n",
       "      <td>Mon Aug 21 18:09:17 +0000 2017</td>\n",
       "      <td>899694914077945858</td>\n",
       "      <td>899694525454700544</td>\n",
       "      <td>favourite_count</td>\n",
       "      <td>3</td>\n",
       "      <td>CDU</td>\n",
       "      <td>Mon Aug 21 18:07:45 +0000 2017</td>\n",
       "    </tr>\n",
       "    <tr>\n",
       "      <th>2</th>\n",
       "      <td>Mon Aug 21 18:09:17 +0000 2017</td>\n",
       "      <td>899694914077945858</td>\n",
       "      <td>899694525454700544</td>\n",
       "      <td>retweet_count</td>\n",
       "      <td>1</td>\n",
       "      <td>CDU</td>\n",
       "      <td>Mon Aug 21 18:07:45 +0000 2017</td>\n",
       "    </tr>\n",
       "    <tr>\n",
       "      <th>3</th>\n",
       "      <td>Mon Aug 21 18:09:18 +0000 2017</td>\n",
       "      <td>899694919178223617</td>\n",
       "      <td>899694525454700544</td>\n",
       "      <td>favourite_count</td>\n",
       "      <td>3</td>\n",
       "      <td>CDU</td>\n",
       "      <td>Mon Aug 21 18:07:45 +0000 2017</td>\n",
       "    </tr>\n",
       "    <tr>\n",
       "      <th>4</th>\n",
       "      <td>Mon Aug 21 18:09:18 +0000 2017</td>\n",
       "      <td>899694919178223617</td>\n",
       "      <td>899694525454700544</td>\n",
       "      <td>retweet_count</td>\n",
       "      <td>2</td>\n",
       "      <td>CDU</td>\n",
       "      <td>Mon Aug 21 18:07:45 +0000 2017</td>\n",
       "    </tr>\n",
       "  </tbody>\n",
       "</table>\n",
       "</div>"
      ],
      "text/plain": [
       "               observed timestamp  observed in tweet.id            tweet.id  \\\n",
       "0  Mon Aug 21 18:09:14 +0000 2017    899694902233182208  899694525454700544   \n",
       "1  Mon Aug 21 18:09:17 +0000 2017    899694914077945858  899694525454700544   \n",
       "2  Mon Aug 21 18:09:17 +0000 2017    899694914077945858  899694525454700544   \n",
       "3  Mon Aug 21 18:09:18 +0000 2017    899694919178223617  899694525454700544   \n",
       "4  Mon Aug 21 18:09:18 +0000 2017    899694919178223617  899694525454700544   \n",
       "\n",
       "   engagement type  count user.screen_name                      created_at  \n",
       "0            reply      1              CDU  Mon Aug 21 18:07:45 +0000 2017  \n",
       "1  favourite_count      3              CDU  Mon Aug 21 18:07:45 +0000 2017  \n",
       "2    retweet_count      1              CDU  Mon Aug 21 18:07:45 +0000 2017  \n",
       "3  favourite_count      3              CDU  Mon Aug 21 18:07:45 +0000 2017  \n",
       "4    retweet_count      2              CDU  Mon Aug 21 18:07:45 +0000 2017  "
      ]
     },
     "execution_count": 9,
     "metadata": {},
     "output_type": "execute_result"
    }
   ],
   "source": [
    "engagements.head()"
   ]
  },
  {
   "cell_type": "markdown",
   "metadata": {},
   "source": [
    "...the distribution of tweettypes"
   ]
  },
  {
   "cell_type": "code",
   "execution_count": 14,
   "metadata": {},
   "outputs": [
    {
     "data": {
      "text/plain": [
       "<matplotlib.axes._subplots.AxesSubplot at 0x1a20634390>"
      ]
     },
     "execution_count": 14,
     "metadata": {},
     "output_type": "execute_result"
    },
    {
     "data": {
      "image/png": "[encoded data removed]",
      "text/plain": [
       "<Figure size 720x288 with 1 Axes>"
      ]
     },
     "metadata": {
      "needs_background": "light"
     },
     "output_type": "display_data"
    }
   ],
   "source": [
    "import seaborn as sns \n",
    "import matplotlib.pyplot as plt\n",
    "%matplotlib inline\n",
    "\n",
    "tweettypes_df = pd.DataFrame({'tweet type': [str(x) for x in tweets['tweettypes']]})\n",
    "fig, ax = plt.subplots(1, 1, figsize=(10, 4))\n",
    "sns.countplot(data=tweettypes_df, y='tweet type', ax=ax)"
   ]
  }
 ],
 "metadata": {
  "kernelspec": {
   "display_name": "Python [conda env:tweeteater]",
   "language": "python",
   "name": "conda-env-tweeteater-py"
  },
  "language_info": {
   "codemirror_mode": {
    "name": "ipython",
    "version": 3
   },
   "file_extension": ".py",
   "mimetype": "text/x-python",
   "name": "python",
   "nbconvert_exporter": "python",
   "pygments_lexer": "ipython3",
   "version": "3.6.8"
  }
 },
 "nbformat": 4,
 "nbformat_minor": 2
}
