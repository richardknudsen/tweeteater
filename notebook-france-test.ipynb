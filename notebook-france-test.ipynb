{
 "cells": [
  {
   "cell_type": "markdown",
   "metadata": {},
   "source": [
    "# Intro"
   ]
  },
  {
   "cell_type": "markdown",
   "metadata": {},
   "source": [
    "This notebook demonstrates the use of the tweeteater functions. The goal of the tweeteater library is to provide functions that allow simple loading of large Twitter datasets collected from the streaming API. It particularly allows to extract nested observations of engagements."
   ]
  },
  {
   "cell_type": "markdown",
   "metadata": {},
   "source": [
    "# Parameters"
   ]
  },
  {
   "cell_type": "code",
   "execution_count": 1,
   "metadata": {},
   "outputs": [],
   "source": [
    "# the directory with the tweets \n",
    "directory = '/Volumes/Data/mt_data/fr/json_test_cleaned'\n",
    "# the extension of the tweet files in the directory\n",
    "extension = '.jsonl'"
   ]
  },
  {
   "cell_type": "markdown",
   "metadata": {},
   "source": [
    "# Load, subset tweets and analyse types"
   ]
  },
  {
   "cell_type": "markdown",
   "metadata": {},
   "source": [
    "At first, we now want to load all tweets in the directory and filter them. We can filter on two conditions, 1. being that we only keep certain types of tweet, 2. we can provide a custom subsetting function. Regarding 1.: a tweet can be a a) retweet of a tweet, b) a replie to a tweet c) a quote of a tweet or d) just an original tweet, that is a tweet that is neither a) - c). A) - c) are not necessarily mutually exclusive.  "
   ]
  },
  {
   "cell_type": "code",
   "execution_count": 3,
   "metadata": {},
   "outputs": [],
   "source": [
    "from eat_tweets import *\n",
    "from utils import *"
   ]
  },
  {
   "cell_type": "markdown",
   "metadata": {},
   "source": [
    "We now only want to keep tweets made by certain users, which are in this case political accounts, and hence define a custom subset function that acts directly on the tweet object "
   ]
  },
  {
   "cell_type": "code",
   "execution_count": 4,
   "metadata": {},
   "outputs": [],
   "source": [
    "#pt = directory + '/screenname2party.json'\n",
    "#politicians_screennames = set([scn for scn, party in load_json(pt).items()])\n",
    "#subset_func = lambda tweet: safe_get(tweet, *('user', 'screen_name')) in politicians_screennames\n",
    "subset_func = lambda x: True"
   ]
  },
  {
   "cell_type": "markdown",
   "metadata": {},
   "source": [
    "Furthermore, we decide that we want to keep all tweettypes."
   ]
  },
  {
   "cell_type": "code",
   "execution_count": 5,
   "metadata": {},
   "outputs": [],
   "source": [
    "keep_tweettypes = ['original', 'retweet', 'reply', 'quote']"
   ]
  },
  {
   "cell_type": "markdown",
   "metadata": {},
   "source": [
    "Now we are ready to load the tweets."
   ]
  },
  {
   "cell_type": "code",
   "execution_count": 6,
   "metadata": {},
   "outputs": [
    {
     "name": "stderr",
     "output_type": "stream",
     "text": [
      "\r",
      "  0%|          | 0/9 [00:00<?, ?it/s]"
     ]
    }
   ],
   "source": [
    "filepaths = get_filepaths(directory, extension)\n",
    "n_filepaths = len(list(get_filepaths(directory, extension)))\n",
    "tweettypes = eat_tweettypes(filepaths, subset_func=subset_func, n_filepaths=n_filepaths)"
   ]
  },
  {
   "cell_type": "markdown",
   "metadata": {},
   "source": [
    "The tweettypes object is a generator using lazy loading. Since the sample dataset used here is small, we can safely convert it into a dictionary, but with larger datasets, this should be avoided. "
   ]
  },
  {
   "cell_type": "code",
   "execution_count": 7,
   "metadata": {},
   "outputs": [
    {
     "name": "stderr",
     "output_type": "stream",
     "text": [
      "100%|██████████| 9/9 [00:08<00:00,  1.86s/it]"
     ]
    },
    {
     "name": "stdout",
     "output_type": "stream",
     "text": [
      "n tweets: 72826\n"
     ]
    },
    {
     "name": "stderr",
     "output_type": "stream",
     "text": [
      "\n"
     ]
    }
   ],
   "source": [
    "tweettypes = dict(tweettypes); print('n tweets:', len(tweettypes))"
   ]
  },
  {
   "cell_type": "markdown",
   "metadata": {},
   "source": [
    "We now want to see the distribution across tweettypes"
   ]
  },
  {
   "cell_type": "code",
   "execution_count": 9,
   "metadata": {},
   "outputs": [
    {
     "data": {
      "text/plain": [
       "<matplotlib.axes._subplots.AxesSubplot at 0x1a23ab9160>"
      ]
     },
     "execution_count": 9,
     "metadata": {},
     "output_type": "execute_result"
    },
    {
     "data": {
      "image/png": "[encoded data removed]",
      "text/plain": [
       "<Figure size 720x288 with 1 Axes>"
      ]
     },
     "metadata": {
      "needs_background": "light"
     },
     "output_type": "display_data"
    }
   ],
   "source": [
    "import seaborn as sns \n",
    "import pandas as pd\n",
    "import matplotlib.pyplot as plt\n",
    "%matplotlib inline\n",
    "\n",
    "tweettypes_df = pd.DataFrame({'tweet type': [str(x) for x in tweettypes.values()]})\n",
    "fig, ax = plt.subplots(1, 1, figsize=(10, 4))\n",
    "sns.countplot(data=tweettypes_df, y='tweet type', ax=ax)"
   ]
  },
  {
   "cell_type": "markdown",
   "metadata": {},
   "source": [
    "Since we are only interested in original tweets, we subset accordingly"
   ]
  },
  {
   "cell_type": "code",
   "execution_count": 10,
   "metadata": {},
   "outputs": [
    {
     "name": "stdout",
     "output_type": "stream",
     "text": [
      "n original tweets 11421\n"
     ]
    }
   ],
   "source": [
    "ids = [id_ for id_, types in tweettypes.items() if 'original' in types]\n",
    "print('n original tweets', len(ids))"
   ]
  },
  {
   "cell_type": "markdown",
   "metadata": {},
   "source": [
    "# Extract more attributes"
   ]
  },
  {
   "cell_type": "markdown",
   "metadata": {},
   "source": [
    "We want to know a little more about the tweets, so we want to extract some more attributes. A comprehensive overview of all atributes of the tweet object can be found here: https://developer.twitter.com/en/docs/tweets/data-dictionary/overview/tweet-object.html"
   ]
  },
  {
   "cell_type": "code",
   "execution_count": 11,
   "metadata": {},
   "outputs": [
    {
     "name": "stderr",
     "output_type": "stream",
     "text": [
      "100%|██████████| 9/9 [00:00<00:00,  9.50it/s]\n"
     ]
    }
   ],
   "source": [
    "attributes = ['created_at', 'user.screen_name', 'user.name', 'text', 'lang']\n",
    "filepaths = get_filepaths(directory, extension)\n",
    "n_filepaths = len(list(get_filepaths(directory, extension)))\n",
    "tweet_attributes = eat_tweetattributes(filepaths, ids, attributes, n_filepaths=n_filepaths)\n",
    "tweet_attributes = pd.DataFrame([[a] + b for a, b in tweet_attributes])\n",
    "tweet_attributes.columns = ['id'] + attributes"
   ]
  },
  {
   "cell_type": "code",
   "execution_count": 12,
   "metadata": {},
   "outputs": [
    {
     "data": {
      "text/html": [
       "<div>\n",
       "<style scoped>\n",
       "    .dataframe tbody tr th:only-of-type {\n",
       "        vertical-align: middle;\n",
       "    }\n",
       "\n",
       "    .dataframe tbody tr th {\n",
       "        vertical-align: top;\n",
       "    }\n",
       "\n",
       "    .dataframe thead th {\n",
       "        text-align: right;\n",
       "    }\n",
       "</style>\n",
       "<table border=\"1\" class=\"dataframe\">\n",
       "  <thead>\n",
       "    <tr style=\"text-align: right;\">\n",
       "      <th></th>\n",
       "      <th>id</th>\n",
       "      <th>created_at</th>\n",
       "      <th>user.screen_name</th>\n",
       "      <th>user.name</th>\n",
       "      <th>text</th>\n",
       "      <th>lang</th>\n",
       "    </tr>\n",
       "  </thead>\n",
       "  <tbody>\n",
       "    <tr>\n",
       "      <th>0</th>\n",
       "      <td>848657386130862081</td>\n",
       "      <td>Sun Apr 02 22:04:22 +0000 2017</td>\n",
       "      <td>closerfr</td>\n",
       "      <td>Closer</td>\n",
       "      <td>#rediff #ONPC : Jean Lassalle perd son sang fr...</td>\n",
       "      <td>fr</td>\n",
       "    </tr>\n",
       "    <tr>\n",
       "      <th>1</th>\n",
       "      <td>848657394636922881</td>\n",
       "      <td>Sun Apr 02 22:04:24 +0000 2017</td>\n",
       "      <td>CMARTYLUSO1</td>\n",
       "      <td>CMARTYLUSO♌</td>\n",
       "      <td>Sortie de l'euro : ce que Marine Le Pen vous c...</td>\n",
       "      <td>fr</td>\n",
       "    </tr>\n",
       "    <tr>\n",
       "      <th>2</th>\n",
       "      <td>848657398457872386</td>\n",
       "      <td>Sun Apr 02 22:04:25 +0000 2017</td>\n",
       "      <td>CMARTYLUSO1</td>\n",
       "      <td>CMARTYLUSO♌</td>\n",
       "      <td>Sortie de l'euro : ce que Marine Le Pen vous c...</td>\n",
       "      <td>fr</td>\n",
       "    </tr>\n",
       "    <tr>\n",
       "      <th>3</th>\n",
       "      <td>848657403444961287</td>\n",
       "      <td>Sun Apr 02 22:04:26 +0000 2017</td>\n",
       "      <td>7Maryse</td>\n",
       "      <td>THIERRY Maryse</td>\n",
       "      <td>https://t.co/SoRAITMCLt</td>\n",
       "      <td>und</td>\n",
       "    </tr>\n",
       "    <tr>\n",
       "      <th>4</th>\n",
       "      <td>848657406624243713</td>\n",
       "      <td>Sun Apr 02 22:04:27 +0000 2017</td>\n",
       "      <td>Venomanceress</td>\n",
       "      <td>♦️Reine♦️de carreaux</td>\n",
       "      <td>J'ai envie de voter Poutou mais je n'ai pas en...</td>\n",
       "      <td>fr</td>\n",
       "    </tr>\n",
       "  </tbody>\n",
       "</table>\n",
       "</div>"
      ],
      "text/plain": [
       "                   id                      created_at user.screen_name  \\\n",
       "0  848657386130862081  Sun Apr 02 22:04:22 +0000 2017         closerfr   \n",
       "1  848657394636922881  Sun Apr 02 22:04:24 +0000 2017      CMARTYLUSO1   \n",
       "2  848657398457872386  Sun Apr 02 22:04:25 +0000 2017      CMARTYLUSO1   \n",
       "3  848657403444961287  Sun Apr 02 22:04:26 +0000 2017          7Maryse   \n",
       "4  848657406624243713  Sun Apr 02 22:04:27 +0000 2017    Venomanceress   \n",
       "\n",
       "              user.name                                               text  \\\n",
       "0                Closer  #rediff #ONPC : Jean Lassalle perd son sang fr...   \n",
       "1           CMARTYLUSO♌  Sortie de l'euro : ce que Marine Le Pen vous c...   \n",
       "2           CMARTYLUSO♌  Sortie de l'euro : ce que Marine Le Pen vous c...   \n",
       "3        THIERRY Maryse                            https://t.co/SoRAITMCLt   \n",
       "4  ♦️Reine♦️de carreaux  J'ai envie de voter Poutou mais je n'ai pas en...   \n",
       "\n",
       "  lang  \n",
       "0   fr  \n",
       "1   fr  \n",
       "2   fr  \n",
       "3  und  \n",
       "4   fr  "
      ]
     },
     "execution_count": 12,
     "metadata": {},
     "output_type": "execute_result"
    }
   ],
   "source": [
    "tweet_attributes.head()"
   ]
  },
  {
   "cell_type": "markdown",
   "metadata": {},
   "source": [
    "Let's also save this"
   ]
  },
  {
   "cell_type": "code",
   "execution_count": 72,
   "metadata": {},
   "outputs": [],
   "source": [
    "#tweet_attributes.to_csv('sample_output/tweets.csv')"
   ]
  },
  {
   "cell_type": "markdown",
   "metadata": {},
   "source": [
    "# Extracting engagements"
   ]
  },
  {
   "cell_type": "markdown",
   "metadata": {},
   "source": [
    "We now also want to know, how many engagements (favourites, replies, retweets, quotes) the original tweets from the politicians received. We can extract this in the following way"
   ]
  },
  {
   "cell_type": "code",
   "execution_count": 13,
   "metadata": {},
   "outputs": [
    {
     "name": "stderr",
     "output_type": "stream",
     "text": [
      "100%|██████████| 9/9 [00:00<00:00,  7.96it/s]\n"
     ]
    }
   ],
   "source": [
    "filepaths = get_filepaths(directory, extension)\n",
    "n_filepaths = len(list(get_filepaths(directory, extension)))\n",
    "engagements = eat_engagements(filepaths, ids, n_filepaths=n_filepaths)\n",
    "engagements = pd.DataFrame(list(engagements))\n",
    "engagements.columns = ['tweet extracted from', 'tweet engaged upon', 'engagement type', 'count']"
   ]
  },
  {
   "cell_type": "code",
   "execution_count": 14,
   "metadata": {},
   "outputs": [
    {
     "data": {
      "text/html": [
       "<div>\n",
       "<style scoped>\n",
       "    .dataframe tbody tr th:only-of-type {\n",
       "        vertical-align: middle;\n",
       "    }\n",
       "\n",
       "    .dataframe tbody tr th {\n",
       "        vertical-align: top;\n",
       "    }\n",
       "\n",
       "    .dataframe thead th {\n",
       "        text-align: right;\n",
       "    }\n",
       "</style>\n",
       "<table border=\"1\" class=\"dataframe\">\n",
       "  <thead>\n",
       "    <tr style=\"text-align: right;\">\n",
       "      <th></th>\n",
       "      <th>tweet extracted from</th>\n",
       "      <th>tweet engaged upon</th>\n",
       "      <th>engagement type</th>\n",
       "      <th>count</th>\n",
       "    </tr>\n",
       "  </thead>\n",
       "  <tbody>\n",
       "    <tr>\n",
       "      <th>0</th>\n",
       "      <td>848657837538410496</td>\n",
       "      <td>848657769527947264</td>\n",
       "      <td>favourite_count</td>\n",
       "      <td>0</td>\n",
       "    </tr>\n",
       "    <tr>\n",
       "      <th>1</th>\n",
       "      <td>848657837538410496</td>\n",
       "      <td>848657769527947264</td>\n",
       "      <td>retweet_count</td>\n",
       "      <td>1</td>\n",
       "    </tr>\n",
       "    <tr>\n",
       "      <th>2</th>\n",
       "      <td>848657872514887680</td>\n",
       "      <td>848657800238694402</td>\n",
       "      <td>favourite_count</td>\n",
       "      <td>0</td>\n",
       "    </tr>\n",
       "    <tr>\n",
       "      <th>3</th>\n",
       "      <td>848657872514887680</td>\n",
       "      <td>848657800238694402</td>\n",
       "      <td>retweet_count</td>\n",
       "      <td>0</td>\n",
       "    </tr>\n",
       "    <tr>\n",
       "      <th>4</th>\n",
       "      <td>848657872514887680</td>\n",
       "      <td>848657800238694402</td>\n",
       "      <td>quote</td>\n",
       "      <td>1</td>\n",
       "    </tr>\n",
       "  </tbody>\n",
       "</table>\n",
       "</div>"
      ],
      "text/plain": [
       "   tweet extracted from  tweet engaged upon  engagement type  count\n",
       "0    848657837538410496  848657769527947264  favourite_count      0\n",
       "1    848657837538410496  848657769527947264    retweet_count      1\n",
       "2    848657872514887680  848657800238694402  favourite_count      0\n",
       "3    848657872514887680  848657800238694402    retweet_count      0\n",
       "4    848657872514887680  848657800238694402            quote      1"
      ]
     },
     "execution_count": 14,
     "metadata": {},
     "output_type": "execute_result"
    }
   ],
   "source": [
    "engagements.head()"
   ]
  },
  {
   "cell_type": "markdown",
   "metadata": {},
   "source": [
    "Note that the engagement types 'favourite_count' and 'retweet_count' correspond to the actual counts according to Twitter at the time 'tweet extracted from' was made. Hence, these are cumulative counts. 'reply' and 'quote' simply mark a reply or a quote within our dataset, hence the count is always 1. Let's now see, which tweets have the highest engagements"
   ]
  },
  {
   "cell_type": "markdown",
   "metadata": {},
   "source": [
    "Let's now add some more columns to this. "
   ]
  },
  {
   "cell_type": "code",
   "execution_count": 15,
   "metadata": {},
   "outputs": [],
   "source": [
    "tweetid2screenname = dict(zip(tweet_attributes['id'], tweet_attributes['user.screen_name']))\n",
    "tweetid2createdat = dict(zip(tweet_attributes['id'], tweet_attributes['created_at']))\n",
    "engagements['tweet engaged upon user.screen_name'] = [tweetid2screenname[id_]\n",
    "                                                      for id_ \n",
    "                                                      in engagements['tweet engaged upon']]\n",
    "engagements['tweet engaged upon created_at'] = [tweetid2createdat[id_]\n",
    "                                                for id_ in engagements['tweet engaged upon']]"
   ]
  },
  {
   "cell_type": "code",
   "execution_count": 16,
   "metadata": {},
   "outputs": [
    {
     "name": "stderr",
     "output_type": "stream",
     "text": [
      "\r",
      "  0%|          | 0/9 [00:00<?, ?it/s]"
     ]
    },
    {
     "ename": "NameError",
     "evalue": "name 'bla' is not defined",
     "output_type": "error",
     "traceback": [
      "\u001b[0;31m---------------------------------------------------------------------------\u001b[0m",
      "\u001b[0;31mNameError\u001b[0m                                 Traceback (most recent call last)",
      "\u001b[0;32m<ipython-input-16-b07e6c152663>\u001b[0m in \u001b[0;36m<module>\u001b[0;34m\u001b[0m\n\u001b[1;32m      5\u001b[0m tweetid2createdat_2 = eat_tweetattributes(filepaths, ids_extracted_from, \n\u001b[1;32m      6\u001b[0m                                           attributes, n_filepaths=n_filepaths)\n\u001b[0;32m----> 7\u001b[0;31m \u001b[0mtweetid2createdat_2\u001b[0m \u001b[0;34m=\u001b[0m \u001b[0;34m{\u001b[0m\u001b[0mid_\u001b[0m\u001b[0;34m:\u001b[0m \u001b[0mcreated_at\u001b[0m\u001b[0;34m[\u001b[0m\u001b[0;36m0\u001b[0m\u001b[0;34m]\u001b[0m \u001b[0;32mfor\u001b[0m \u001b[0mid_\u001b[0m\u001b[0;34m,\u001b[0m \u001b[0mcreated_at\u001b[0m \u001b[0;32min\u001b[0m \u001b[0mbla\u001b[0m\u001b[0;34m}\u001b[0m\u001b[0;34m\u001b[0m\u001b[0;34m\u001b[0m\u001b[0m\n\u001b[0m\u001b[1;32m      8\u001b[0m engagements['tweet extracted from created_at'] = [tweetid2createdat_2[id_]\n\u001b[1;32m      9\u001b[0m                                                   for id_ in engagements['tweet extracted from']]\n",
      "\u001b[0;31mNameError\u001b[0m: name 'bla' is not defined"
     ]
    }
   ],
   "source": [
    "filepaths = get_filepaths(directory, extension)\n",
    "n_filepaths = len(list(get_filepaths(directory, extension)))\n",
    "attributes = ['created_at'] \n",
    "ids_extracted_from = engagements['tweet extracted from']\n",
    "tweetid2createdat_2 = eat_tweetattributes(filepaths, ids_extracted_from, \n",
    "                                          attributes, n_filepaths=n_filepaths)\n",
    "tweetid2createdat_2 = {id_: created_at[0] for id_, created_at in bla}\n",
    "engagements['tweet extracted from created_at'] = [tweetid2createdat_2[id_]\n",
    "                                                  for id_ in engagements['tweet extracted from']]"
   ]
  },
  {
   "cell_type": "code",
   "execution_count": 106,
   "metadata": {},
   "outputs": [
    {
     "data": {
      "text/html": [
       "<div>\n",
       "<style scoped>\n",
       "    .dataframe tbody tr th:only-of-type {\n",
       "        vertical-align: middle;\n",
       "    }\n",
       "\n",
       "    .dataframe tbody tr th {\n",
       "        vertical-align: top;\n",
       "    }\n",
       "\n",
       "    .dataframe thead th {\n",
       "        text-align: right;\n",
       "    }\n",
       "</style>\n",
       "<table border=\"1\" class=\"dataframe\">\n",
       "  <thead>\n",
       "    <tr style=\"text-align: right;\">\n",
       "      <th></th>\n",
       "      <th>tweet extracted from</th>\n",
       "      <th>tweet engaged upon</th>\n",
       "      <th>engagement type</th>\n",
       "      <th>count</th>\n",
       "      <th>tweet engaged upon user.screen_name</th>\n",
       "      <th>tweet engaged upon created_at</th>\n",
       "      <th>tweet extracted from created_at</th>\n",
       "    </tr>\n",
       "  </thead>\n",
       "  <tbody>\n",
       "    <tr>\n",
       "      <th>0</th>\n",
       "      <td>899633210744864770</td>\n",
       "      <td>899632451445825536</td>\n",
       "      <td>favourite_count</td>\n",
       "      <td>1</td>\n",
       "      <td>DieLinkeNRW</td>\n",
       "      <td>Mon Aug 21 14:01:05 +0000 2017</td>\n",
       "      <td>Mon Aug 21 14:04:06 +0000 2017</td>\n",
       "    </tr>\n",
       "    <tr>\n",
       "      <th>1</th>\n",
       "      <td>899633210744864770</td>\n",
       "      <td>899632451445825536</td>\n",
       "      <td>retweet_count</td>\n",
       "      <td>2</td>\n",
       "      <td>DieLinkeNRW</td>\n",
       "      <td>Mon Aug 21 14:01:05 +0000 2017</td>\n",
       "      <td>Mon Aug 21 14:04:06 +0000 2017</td>\n",
       "    </tr>\n",
       "    <tr>\n",
       "      <th>2</th>\n",
       "      <td>899633304693026818</td>\n",
       "      <td>899632451445825536</td>\n",
       "      <td>favourite_count</td>\n",
       "      <td>1</td>\n",
       "      <td>DieLinkeNRW</td>\n",
       "      <td>Mon Aug 21 14:01:05 +0000 2017</td>\n",
       "      <td>Mon Aug 21 14:04:28 +0000 2017</td>\n",
       "    </tr>\n",
       "    <tr>\n",
       "      <th>3</th>\n",
       "      <td>899633304693026818</td>\n",
       "      <td>899632451445825536</td>\n",
       "      <td>retweet_count</td>\n",
       "      <td>3</td>\n",
       "      <td>DieLinkeNRW</td>\n",
       "      <td>Mon Aug 21 14:01:05 +0000 2017</td>\n",
       "      <td>Mon Aug 21 14:04:28 +0000 2017</td>\n",
       "    </tr>\n",
       "    <tr>\n",
       "      <th>4</th>\n",
       "      <td>899633310867103746</td>\n",
       "      <td>899615666386415617</td>\n",
       "      <td>favourite_count</td>\n",
       "      <td>18</td>\n",
       "      <td>Die_Gruenen</td>\n",
       "      <td>Mon Aug 21 12:54:23 +0000 2017</td>\n",
       "      <td>Mon Aug 21 14:04:30 +0000 2017</td>\n",
       "    </tr>\n",
       "  </tbody>\n",
       "</table>\n",
       "</div>"
      ],
      "text/plain": [
       "   tweet extracted from  tweet engaged upon  engagement type  count  \\\n",
       "0    899633210744864770  899632451445825536  favourite_count      1   \n",
       "1    899633210744864770  899632451445825536    retweet_count      2   \n",
       "2    899633304693026818  899632451445825536  favourite_count      1   \n",
       "3    899633304693026818  899632451445825536    retweet_count      3   \n",
       "4    899633310867103746  899615666386415617  favourite_count     18   \n",
       "\n",
       "  tweet engaged upon user.screen_name   tweet engaged upon created_at  \\\n",
       "0                         DieLinkeNRW  Mon Aug 21 14:01:05 +0000 2017   \n",
       "1                         DieLinkeNRW  Mon Aug 21 14:01:05 +0000 2017   \n",
       "2                         DieLinkeNRW  Mon Aug 21 14:01:05 +0000 2017   \n",
       "3                         DieLinkeNRW  Mon Aug 21 14:01:05 +0000 2017   \n",
       "4                         Die_Gruenen  Mon Aug 21 12:54:23 +0000 2017   \n",
       "\n",
       "  tweet extracted from created_at  \n",
       "0  Mon Aug 21 14:04:06 +0000 2017  \n",
       "1  Mon Aug 21 14:04:06 +0000 2017  \n",
       "2  Mon Aug 21 14:04:28 +0000 2017  \n",
       "3  Mon Aug 21 14:04:28 +0000 2017  \n",
       "4  Mon Aug 21 14:04:30 +0000 2017  "
      ]
     },
     "execution_count": 106,
     "metadata": {},
     "output_type": "execute_result"
    }
   ],
   "source": [
    "engagements.head()"
   ]
  },
  {
   "cell_type": "code",
   "execution_count": 107,
   "metadata": {},
   "outputs": [],
   "source": [
    "engagements.to_csv('sample_output/engagements.csv')"
   ]
  }
 ],
 "metadata": {
  "kernelspec": {
   "display_name": "Python [conda env:tweeteater]",
   "language": "python",
   "name": "conda-env-tweeteater-py"
  },
  "language_info": {
   "codemirror_mode": {
    "name": "ipython",
    "version": 3
   },
   "file_extension": ".py",
   "mimetype": "text/x-python",
   "name": "python",
   "nbconvert_exporter": "python",
   "pygments_lexer": "ipython3",
   "version": "3.6.8"
  }
 },
 "nbformat": 4,
 "nbformat_minor": 2
}
